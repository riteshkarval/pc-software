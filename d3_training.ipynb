{
 "cells": [
  {
   "cell_type": "code",
   "execution_count": 1,
   "id": "8bb12cf1-0402-4876-9be4-a5e39d39a36d",
   "metadata": {
    "tags": []
   },
   "outputs": [],
   "source": [
    "import cv2\n",
    "import json, os\n",
    "import glob\n",
    "import numpy as np"
   ]
  },
  {
   "cell_type": "code",
   "execution_count": 2,
   "id": "34122567-9199-44fb-a43f-4f71f34dbb54",
   "metadata": {
    "tags": []
   },
   "outputs": [],
   "source": [
    "def create_captions_map(datadir):\n",
    "    captions = list()\n",
    "    image_files = list()\n",
    "    imagedir = datadir\n",
    "    for file_type in (\".png\", \".jpg\"):\n",
    "        image_files.extend(glob.glob(os.path.join(imagedir, \"**/*\" + file_type), recursive=True))\n",
    "    for each_image_file in image_files:\n",
    "        caption_map = {\"file_name\":os.path.basename(each_image_file)}\n",
    "        filebasename, _ = os.path.splitext(each_image_file)\n",
    "        label_file_name = filebasename.replace(\"IMAGES\", \"TEXT_LABELS\") + \".gui\"\n",
    "        with open(label_file_name) as f:\n",
    "            caption_map[\"text\"] = f.read()\n",
    "        captions.append(caption_map)\n",
    "    return captions"
   ]
  },
  {
   "cell_type": "code",
   "execution_count": 3,
   "id": "ede2c153-2b5e-4d2c-aeaf-b63073b0e00f",
   "metadata": {},
   "outputs": [],
   "source": [
    "root = \"../D3/IMAGES/\"\n",
    "captions = create_captions_map(root)"
   ]
  },
  {
   "cell_type": "code",
   "execution_count": 4,
   "id": "1d7e915b-20a6-49e0-99ec-de0e4646910d",
   "metadata": {
    "tags": []
   },
   "outputs": [],
   "source": [
    "with open(root + \"metadata.jsonl\", 'w') as f:\n",
    "    for item in captions:\n",
    "        f.write(json.dumps(item) + \"\\n\")"
   ]
  },
  {
   "cell_type": "code",
   "execution_count": 5,
   "id": "01e67122-6003-4cb1-9f7d-c8db22cf5dc7",
   "metadata": {
    "tags": []
   },
   "outputs": [
    {
     "data": {
      "application/vnd.jupyter.widget-view+json": {
       "model_id": "510fae21ba2f4b2db0382a06d3ce5b04",
       "version_major": 2,
       "version_minor": 0
      },
      "text/plain": [
       "Resolving data files:   0%|          | 0/301 [00:00<?, ?it/s]"
      ]
     },
     "metadata": {},
     "output_type": "display_data"
    },
    {
     "name": "stdout",
     "output_type": "stream",
     "text": [
      "Downloading and preparing dataset imagefolder/default to /Users/ritesh/.cache/huggingface/datasets/imagefolder/default-e52771f6e7bda6c7/0.0.0/37fbb85cc714a338bea574ac6c7d0b5be5aff46c1862c1989b20e0771199e93f...\n"
     ]
    },
    {
     "data": {
      "application/vnd.jupyter.widget-view+json": {
       "model_id": "855a8f3e7dc5435588376a244bcfabac",
       "version_major": 2,
       "version_minor": 0
      },
      "text/plain": [
       "Downloading data files:   0%|          | 0/301 [00:00<?, ?it/s]"
      ]
     },
     "metadata": {},
     "output_type": "display_data"
    },
    {
     "data": {
      "application/vnd.jupyter.widget-view+json": {
       "model_id": "058f5d21c2a5473ba395388b07055542",
       "version_major": 2,
       "version_minor": 0
      },
      "text/plain": [
       "Downloading data files: 0it [00:00, ?it/s]"
      ]
     },
     "metadata": {},
     "output_type": "display_data"
    },
    {
     "data": {
      "application/vnd.jupyter.widget-view+json": {
       "model_id": "48479f257b6a429baa6b2c2d5541b07a",
       "version_major": 2,
       "version_minor": 0
      },
      "text/plain": [
       "Extracting data files: 0it [00:00, ?it/s]"
      ]
     },
     "metadata": {},
     "output_type": "display_data"
    },
    {
     "data": {
      "application/vnd.jupyter.widget-view+json": {
       "model_id": "b8ae4436f5a041228c3a4c00a04d47c1",
       "version_major": 2,
       "version_minor": 0
      },
      "text/plain": [
       "Generating train split: 0 examples [00:00, ? examples/s]"
      ]
     },
     "metadata": {},
     "output_type": "display_data"
    },
    {
     "name": "stdout",
     "output_type": "stream",
     "text": [
      "Dataset imagefolder downloaded and prepared to /Users/ritesh/.cache/huggingface/datasets/imagefolder/default-e52771f6e7bda6c7/0.0.0/37fbb85cc714a338bea574ac6c7d0b5be5aff46c1862c1989b20e0771199e93f. Subsequent calls will reuse this data.\n"
     ]
    }
   ],
   "source": [
    "from datasets import load_dataset \n",
    "\n",
    "dataset = load_dataset(\"imagefolder\", data_dir=root, split=\"train\")"
   ]
  },
  {
   "cell_type": "code",
   "execution_count": 6,
   "id": "c74181c4-8e25-4d55-96fe-d2e7b390d37f",
   "metadata": {
    "tags": []
   },
   "outputs": [
    {
     "data": {
      "text/plain": [
       "Dataset({\n",
       "    features: ['image', 'text'],\n",
       "    num_rows: 300\n",
       "})"
      ]
     },
     "execution_count": 6,
     "metadata": {},
     "output_type": "execute_result"
    }
   ],
   "source": [
    "dataset"
   ]
  },
  {
   "cell_type": "markdown",
   "id": "a045c7bf-159a-4d50-96ac-d37cf1df975f",
   "metadata": {},
   "source": [
    "# Create PyTorch Dataset"
   ]
  },
  {
   "cell_type": "code",
   "execution_count": 7,
   "id": "7ff31631-a5d5-4960-b4df-c976d6f269ec",
   "metadata": {
    "tags": []
   },
   "outputs": [],
   "source": [
    "from torch.utils.data import Dataset\n",
    "\n",
    "class ImageCaptioningDataset(Dataset):\n",
    "    def __init__(self, dataset, processor):\n",
    "        self.dataset = dataset\n",
    "        self.processor = processor\n",
    "\n",
    "    def __len__(self):\n",
    "        return len(self.dataset)\n",
    "\n",
    "    def __getitem__(self, idx):\n",
    "        item = self.dataset[idx]\n",
    "\n",
    "        encoding = self.processor(images=item[\"image\"], text=item[\"text\"], padding=\"max_length\", return_tensors=\"pt\")\n",
    "\n",
    "        # remove batch dimension\n",
    "        encoding = {k:v.squeeze() for k,v in encoding.items()}\n",
    "\n",
    "        return encoding"
   ]
  },
  {
   "cell_type": "code",
   "execution_count": 8,
   "id": "9a6a465d-7e7f-4578-9ea5-9a6482cc622f",
   "metadata": {
    "tags": []
   },
   "outputs": [
    {
     "name": "stderr",
     "output_type": "stream",
     "text": [
      "2023-04-16 17:41:28.087659: I tensorflow/core/platform/cpu_feature_guard.cc:182] This TensorFlow binary is optimized to use available CPU instructions in performance-critical operations.\n",
      "To enable the following instructions: AVX2 AVX512F AVX512_VNNI FMA, in other operations, rebuild TensorFlow with the appropriate compiler flags.\n"
     ]
    }
   ],
   "source": [
    "from transformers import AutoProcessor\n",
    "\n",
    "processor = AutoProcessor.from_pretrained(\"microsoft/git-base\")"
   ]
  },
  {
   "cell_type": "code",
   "execution_count": 9,
   "id": "3d18f26a-bf3b-4a56-98a8-cbacfddb695b",
   "metadata": {
    "tags": []
   },
   "outputs": [],
   "source": [
    "train_dataset = ImageCaptioningDataset(dataset, processor)"
   ]
  },
  {
   "cell_type": "code",
   "execution_count": 10,
   "id": "971e2c3b-a2ca-491a-9e39-ea4a904e8764",
   "metadata": {
    "tags": []
   },
   "outputs": [
    {
     "name": "stdout",
     "output_type": "stream",
     "text": [
      "input_ids torch.Size([512])\n",
      "attention_mask torch.Size([512])\n",
      "pixel_values torch.Size([3, 224, 224])\n"
     ]
    }
   ],
   "source": [
    "item = train_dataset[0]\n",
    "for k,v in item.items():\n",
    "  print(k,v.shape)"
   ]
  },
  {
   "cell_type": "markdown",
   "id": "dde751e8-6a20-4ca7-98f9-e6fcadfaf0ad",
   "metadata": {},
   "source": [
    "# Create PyTorch DataLoader"
   ]
  },
  {
   "cell_type": "code",
   "execution_count": 11,
   "id": "76721019-c1c8-4434-939b-a897beb6a8d5",
   "metadata": {
    "tags": []
   },
   "outputs": [],
   "source": [
    "from torch.utils.data import DataLoader\n",
    "\n",
    "train_dataloader = DataLoader(train_dataset, shuffle=True, batch_size=2)"
   ]
  },
  {
   "cell_type": "code",
   "execution_count": 12,
   "id": "6170ffb8-3da2-4585-b3ec-758eba4da382",
   "metadata": {
    "tags": []
   },
   "outputs": [
    {
     "name": "stdout",
     "output_type": "stream",
     "text": [
      "input_ids torch.Size([2, 512])\n",
      "attention_mask torch.Size([2, 512])\n",
      "pixel_values torch.Size([2, 3, 224, 224])\n"
     ]
    }
   ],
   "source": [
    "batch = next(iter(train_dataloader))\n",
    "for k,v in batch.items():\n",
    "  print(k,v.shape)"
   ]
  },
  {
   "cell_type": "code",
   "execution_count": 13,
   "id": "efc35528-7efa-4f1c-9a13-7287d3ee208a",
   "metadata": {
    "tags": []
   },
   "outputs": [],
   "source": [
    "from PIL import Image\n",
    "import numpy as np\n",
    "\n",
    "MEAN = np.array([123.675, 116.280, 103.530]) / 255\n",
    "STD = np.array([58.395, 57.120, 57.375]) / 255\n",
    "\n",
    "unnormalized_image = (batch[\"pixel_values\"][0].numpy() * np.array(STD)[:, None, None]) + np.array(MEAN)[:, None, None]\n",
    "unnormalized_image = (unnormalized_image * 255).astype(np.uint8)\n",
    "unnormalized_image = np.moveaxis(unnormalized_image, 0, -1)"
   ]
  },
  {
   "cell_type": "markdown",
   "id": "9a34ac46-fb24-41a7-b885-bb0ebf106579",
   "metadata": {},
   "source": [
    "# Define model"
   ]
  },
  {
   "cell_type": "code",
   "execution_count": 14,
   "id": "e1883c9e-e87a-4fdc-93be-f37eab23f949",
   "metadata": {
    "tags": []
   },
   "outputs": [],
   "source": [
    "from transformers import AutoModelForCausalLM\n",
    "\n",
    "model = AutoModelForCausalLM.from_pretrained(\"microsoft/git-base\")"
   ]
  },
  {
   "cell_type": "markdown",
   "id": "2ad4caad-a0c9-48a7-bff6-02dd60ac8265",
   "metadata": {},
   "source": [
    "# Dummy forward pass"
   ]
  },
  {
   "cell_type": "code",
   "execution_count": 15,
   "id": "32e3bf03-3476-4c34-ad1f-4e4424df1194",
   "metadata": {
    "tags": []
   },
   "outputs": [
    {
     "data": {
      "text/plain": [
       "tensor(11.0811, grad_fn=<NllLossBackward0>)"
      ]
     },
     "execution_count": 15,
     "metadata": {},
     "output_type": "execute_result"
    }
   ],
   "source": [
    "outputs = model(input_ids=batch[\"input_ids\"],\n",
    "                attention_mask=batch[\"attention_mask\"],\n",
    "                pixel_values=batch[\"pixel_values\"],\n",
    "                labels=batch[\"input_ids\"])\n",
    "outputs.loss"
   ]
  },
  {
   "cell_type": "markdown",
   "id": "d783c28f-4333-42ca-bb9b-046a0fb737c9",
   "metadata": {},
   "source": [
    "# Train the model"
   ]
  },
  {
   "cell_type": "code",
   "execution_count": 16,
   "id": "80a9f731-5ed6-43b8-994e-e536345dea58",
   "metadata": {
    "tags": []
   },
   "outputs": [
    {
     "name": "stdout",
     "output_type": "stream",
     "text": [
      "Epoch: 0\n",
      "Loss: 10.710468292236328\tLoss: 10.126626968383789\tLoss: 9.439986228942871\tLoss: 9.080878257751465\tLoss: 8.757352828979492\tLoss: 8.46851921081543\tLoss: 8.288243293762207\tLoss: 7.934171676635742\tLoss: 7.940999507904053\tLoss: 7.655185222625732\tLoss: 7.479077339172363\tLoss: 7.404178619384766\tLoss: 7.365584850311279\tLoss: 7.251214504241943\tLoss: 6.9966230392456055\tLoss: 6.691814422607422\tLoss: 6.605830192565918\tLoss: 6.594297885894775\tLoss: 6.49360466003418\tLoss: 6.385962009429932\tLoss: 6.368706703186035\tLoss: 6.131566047668457\tLoss: 6.084646701812744\tLoss: 5.981993675231934\tLoss: 5.963475227355957\tLoss: 5.968304634094238\tLoss: 5.723918437957764\tLoss: 5.711649417877197\tLoss: 5.5067925453186035\tLoss: 5.519079208374023\tLoss: 5.54173469543457\tLoss: 5.281387805938721\tLoss: 5.2058305740356445\tLoss: 5.124850273132324\tLoss: 5.038467884063721\tLoss: 4.904438018798828\tLoss: 4.8971476554870605\tLoss: 4.742694854736328\tLoss: 4.633916854858398\tLoss: 4.661097526550293\tLoss: 4.459529876708984\tLoss: 4.320494174957275\tLoss: 4.255314350128174\tLoss: 4.188509464263916\tLoss: 4.158518314361572\tLoss: 4.0406270027160645\tLoss: 3.8943638801574707\tLoss: 3.753162145614624\tLoss: 3.674485206604004\tLoss: 3.6822283267974854\tLoss: 3.5159552097320557\tLoss: 3.4481663703918457\tLoss: 3.326029062271118\tLoss: 3.1803836822509766\tLoss: 3.1925737857818604\tLoss: 3.0113706588745117\tLoss: 2.946533679962158\tLoss: 2.871664047241211\tLoss: 2.8038737773895264\tLoss: 2.689579725265503\tLoss: 2.589304208755493\tLoss: 2.548313856124878\tLoss: 2.45263409614563\tLoss: 2.291456699371338\tLoss: 2.2962090969085693\tLoss: 2.148040771484375\tLoss: 2.0838310718536377\tLoss: 1.9405490159988403\tLoss: 1.8983527421951294\tLoss: 1.8108259439468384\tLoss: 1.7956980466842651\tLoss: 1.664844036102295\tLoss: 1.6168010234832764\tLoss: 1.4954512119293213\tLoss: 1.4329819679260254\tLoss: 1.3774927854537964\tLoss: 1.2969799041748047\tLoss: 1.2355222702026367\tLoss: 1.160314679145813\tLoss: 1.1054654121398926\tLoss: 1.0465426445007324\tLoss: 0.978877604007721\tLoss: 0.9202784895896912\tLoss: 0.8808546662330627\tLoss: 0.824076771736145\tLoss: 0.7716898322105408\tLoss: 0.7347446084022522\tLoss: 0.6948542594909668\tLoss: 0.6634365916252136\tLoss: 0.6260042786598206\tLoss: 0.6048290133476257\tLoss: 0.5615604519844055\tLoss: 0.5335447788238525\tLoss: 0.5230509638786316\tLoss: 0.48747533559799194\tLoss: 0.4739152789115906\tLoss: 0.4309178292751312\tLoss: 0.42966583371162415\tLoss: 0.39448633790016174\tLoss: 0.39058953523635864\tLoss: 0.3710488975048065\tLoss: 0.35316771268844604\tLoss: 0.34505894780158997\tLoss: 0.3296602964401245\tLoss: 0.32130521535873413\tLoss: 0.3054896295070648\tLoss: 0.2963595986366272\tLoss: 0.28665706515312195\tLoss: 0.2758497893810272\tLoss: 0.27601370215415955\tLoss: 0.24515974521636963\tLoss: 0.24340969324111938\tLoss: 0.24702616035938263\tLoss: 0.2620672583580017\tLoss: 0.24613457918167114\tLoss: 0.23664556443691254\tLoss: 0.21664145588874817\tLoss: 0.23554107546806335\tLoss: 0.21581189334392548\tLoss: 0.2258315086364746\tLoss: 0.21824495494365692\tLoss: 0.19485999643802643\tLoss: 0.19700650870800018\tLoss: 0.20185486972332\tLoss: 0.1914370059967041\tLoss: 0.19756722450256348\tLoss: 0.2140539437532425\tLoss: 0.19792188704013824\tLoss: 0.18262578547000885\tLoss: 0.17459076642990112\tLoss: 0.18253853917121887\tLoss: 0.19791525602340698\tLoss: 0.17879164218902588\tLoss: 0.16016124188899994\tLoss: 0.16735891997814178\tLoss: 0.17344628274440765\tLoss: 0.17113381624221802\tLoss: 0.1669732928276062\tLoss: 0.16721250116825104\tLoss: 0.16631247103214264\tLoss: 0.15450799465179443\tLoss: 0.16397903859615326\tLoss: 0.1610623002052307\tLoss: 0.16858212649822235\tLoss: 0.1654835194349289\tLoss: 0.1599569320678711\tLoss: 0.16057610511779785\tLoss: 0.14769189059734344\tLoss: 0.14482606947422028\tLoss: 0.14620618522167206\t"
     ]
    }
   ],
   "source": [
    "import torch\n",
    "\n",
    "optimizer = torch.optim.AdamW(model.parameters(), lr=5e-5)\n",
    "\n",
    "device = \"cuda\" if torch.cuda.is_available() else \"cpu\"\n",
    "model.to(device)\n",
    "\n",
    "model.train()\n",
    "\n",
    "for epoch in range(1):\n",
    "  print(\"Epoch:\", epoch)\n",
    "  for idx, batch in enumerate(train_dataloader):\n",
    "    input_ids = batch.pop(\"input_ids\").to(device)\n",
    "    pixel_values = batch.pop(\"pixel_values\").to(device)\n",
    "\n",
    "    outputs = model(input_ids=input_ids,\n",
    "                    pixel_values=pixel_values,\n",
    "                    labels=input_ids)\n",
    "    \n",
    "    loss = outputs.loss\n",
    "\n",
    "    print(\"Loss:\", loss.item(), end=\"\\t\")\n",
    "\n",
    "    loss.backward()\n",
    "\n",
    "    optimizer.step()\n",
    "    optimizer.zero_grad()"
   ]
  },
  {
   "cell_type": "markdown",
   "id": "75928f96-83fb-4a60-b286-c1154f5e37ca",
   "metadata": {},
   "source": [
    "# Inference"
   ]
  },
  {
   "cell_type": "code",
   "execution_count": 17,
   "id": "f0b62a74-a5f1-4ab3-b22d-6260abbb5c76",
   "metadata": {
    "tags": []
   },
   "outputs": [
    {
     "name": "stdout",
     "output_type": "stream",
     "text": [
      "components { home, sidebar } orientation { sidebar - right - home - left } home { cards { img - card, img - card, img - btn - card, img - card } table - col {\n"
     ]
    }
   ],
   "source": [
    "# prepare image for the model\n",
    "example = dataset[0]\n",
    "image = example[\"image\"]\n",
    "width, height = image.size\n",
    "inputs = processor(images=image, return_tensors=\"pt\").to(device)\n",
    "pixel_values = inputs.pixel_values\n",
    "\n",
    "generated_ids = model.generate(pixel_values=pixel_values, max_length=50)\n",
    "generated_caption = processor.batch_decode(generated_ids, skip_special_tokens=True)[0]\n",
    "print(generated_caption)"
   ]
  },
  {
   "cell_type": "code",
   "execution_count": null,
   "id": "afd60bf0-8b52-4baf-90ea-667db8f0f132",
   "metadata": {},
   "outputs": [],
   "source": []
  }
 ],
 "metadata": {
  "kernelspec": {
   "display_name": "purecode",
   "language": "python",
   "name": "purecode"
  },
  "language_info": {
   "codemirror_mode": {
    "name": "ipython",
    "version": 3
   },
   "file_extension": ".py",
   "mimetype": "text/x-python",
   "name": "python",
   "nbconvert_exporter": "python",
   "pygments_lexer": "ipython3",
   "version": "3.10.7"
  }
 },
 "nbformat": 4,
 "nbformat_minor": 5
}
